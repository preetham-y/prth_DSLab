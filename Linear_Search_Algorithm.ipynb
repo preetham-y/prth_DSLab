{
  "nbformat": 4,
  "nbformat_minor": 0,
  "metadata": {
    "colab": {
      "provenance": []
    },
    "kernelspec": {
      "name": "python3",
      "display_name": "Python 3"
    },
    "language_info": {
      "name": "python"
    }
  },
  "cells": [
    {
      "cell_type": "code",
      "execution_count": 1,
      "metadata": {
        "colab": {
          "base_uri": "https://localhost:8080/"
        },
        "id": "JAN4YYM1Giw7",
        "outputId": "1a812476-e4dd-4c2f-9a0f-9b1bec379384"
      },
      "outputs": [
        {
          "output_type": "stream",
          "name": "stdout",
          "text": [
            "Enter a number:51\n",
            "Element Found\n"
          ]
        }
      ],
      "source": [
        "#Task 1\n",
        "myList = [10, 35, 42, 51, 62]\n",
        "\n",
        "pivot = int(input(\"Enter a number:\"))\n",
        "\n",
        "\n",
        "for i in myList:\n",
        "    if pivot==i:\n",
        "        flag = 1\n",
        "        break\n",
        "    else:\n",
        "        flag = 0\n",
        "    \n",
        "if flag == 1:\n",
        "    print(\"Element Found\")\n",
        "else:\n",
        "    print(\"Element Not Found\")"
      ]
    },
    {
      "cell_type": "code",
      "source": [
        "#Task 1(with file)\n",
        "import pandas\n",
        "df = pandas.read_excel('Task 1 file.xlsx')\n",
        "pivot_element=int(input(\"Enter a number:\"))\n",
        "\n",
        "for i in df:\n",
        "    if pivot==i:\n",
        "        flag = 1\n",
        "        break\n",
        "    else:\n",
        "        flag = 0\n",
        "    \n",
        "if flag == 1:\n",
        "    print(\"Element Found\")\n",
        "else:\n",
        "    print(\"Element Not Found\")"
      ],
      "metadata": {
        "colab": {
          "base_uri": "https://localhost:8080/"
        },
        "id": "lh0isvaDHXrB",
        "outputId": "6f8e307b-a19a-43be-fee5-7ca871c74c30"
      },
      "execution_count": 23,
      "outputs": [
        {
          "output_type": "stream",
          "name": "stdout",
          "text": [
            "Enter a number:52\n",
            "Element Not Found\n"
          ]
        }
      ]
    },
    {
      "cell_type": "code",
      "source": [],
      "metadata": {
        "id": "UVmUOWCVKLwu"
      },
      "execution_count": null,
      "outputs": []
    }
  ]
}