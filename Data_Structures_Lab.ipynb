{
  "nbformat": 4,
  "nbformat_minor": 0,
  "metadata": {
    "colab": {
      "provenance": [],
      "collapsed_sections": [],
      "authorship_tag": "ABX9TyPVdFj/6CR65g1KqwqDxIAO",
      "include_colab_link": true
    },
    "kernelspec": {
      "name": "python3",
      "display_name": "Python 3"
    },
    "language_info": {
      "name": "python"
    }
  },
  "cells": [
    {
      "cell_type": "markdown",
      "metadata": {
        "id": "view-in-github",
        "colab_type": "text"
      },
      "source": [
        "<a href=\"https://colab.research.google.com/github/preetham-y/prth_DSLab/blob/main/Data_Structures_Lab.ipynb\" target=\"_parent\"><img src=\"https://colab.research.google.com/assets/colab-badge.svg\" alt=\"Open In Colab\"/></a>"
      ]
    },
    {
      "cell_type": "code",
      "execution_count": null,
      "metadata": {
        "colab": {
          "base_uri": "https://localhost:8080/"
        },
        "id": "JAN4YYM1Giw7",
        "outputId": "1a812476-e4dd-4c2f-9a0f-9b1bec379384"
      },
      "outputs": [
        {
          "output_type": "stream",
          "name": "stdout",
          "text": [
            "Enter a number:51\n",
            "Element Found\n"
          ]
        }
      ],
      "source": [
        "#Task 1 - Linear Search\n",
        "myList = [10, 35, 42, 51, 62]\n",
        "\n",
        "pivot = int(input(\"Enter a number:\"))\n",
        "\n",
        "\n",
        "for i in myList:\n",
        "    if pivot==i:\n",
        "        flag = 1\n",
        "        break\n",
        "    else:\n",
        "        flag = 0\n",
        "    \n",
        "if flag == 1:\n",
        "    print(\"Element Found\")\n",
        "else:\n",
        "    print(\"Element Not Found\")"
      ]
    },
    {
      "cell_type": "code",
      "source": [
        "#Task 1(with file) - Linear Search\n",
        "import pandas\n",
        "df = pandas.read_excel('Task 1 file.xlsx')\n",
        "pivot_element=int(input(\"Enter a number:\"))\n",
        "\n",
        "for i in df:\n",
        "    if pivot==i:\n",
        "        flag = 1\n",
        "        break\n",
        "    else:\n",
        "        flag = 0\n",
        "    \n",
        "if flag == 1:\n",
        "    print(\"Element Found\")\n",
        "else:\n",
        "    print(\"Element Not Found\")"
      ],
      "metadata": {
        "colab": {
          "base_uri": "https://localhost:8080/"
        },
        "id": "lh0isvaDHXrB",
        "outputId": "6f8e307b-a19a-43be-fee5-7ca871c74c30"
      },
      "execution_count": null,
      "outputs": [
        {
          "output_type": "stream",
          "name": "stdout",
          "text": [
            "Enter a number:52\n",
            "Element Not Found\n"
          ]
        }
      ]
    },
    {
      "cell_type": "code",
      "source": [
        "#Task 2 - Insersion Sort\n",
        "\n",
        "my_List = [9, 36, 8 ,48, 7, 56]\n",
        "'''my_List.sort()'''\n",
        " \n",
        "n=len(my_List)\n",
        "i=0\n",
        "for i in my_List:\n",
        "    min = my_List[i]\n",
        "    minpos = i\n",
        "    j=i+1\n",
        "    while j<n:\n",
        "      if my_List[j]<my_List[i]:\n",
        "        min = my_List[j]\n",
        "        minpos = j\n",
        "        j = j+2\n",
        "    my_List[i],my_List[j]=my_List[j],my_List[i]\n",
        "print(my_List)"
      ],
      "metadata": {
        "id": "UVmUOWCVKLwu",
        "colab": {
          "base_uri": "https://localhost:8080/",
          "height": 235
        },
        "outputId": "c9767e69-301c-435a-fe3f-6e2b44026d4c"
      },
      "execution_count": 1,
      "outputs": [
        {
          "output_type": "error",
          "ename": "IndexError",
          "evalue": "ignored",
          "traceback": [
            "\u001b[0;31m---------------------------------------------------------------------------\u001b[0m",
            "\u001b[0;31mIndexError\u001b[0m                                Traceback (most recent call last)",
            "\u001b[0;32m<ipython-input-1-31e80cb3eb7a>\u001b[0m in \u001b[0;36m<module>\u001b[0;34m\u001b[0m\n\u001b[1;32m      7\u001b[0m \u001b[0mi\u001b[0m\u001b[0;34m=\u001b[0m\u001b[0;36m0\u001b[0m\u001b[0;34m\u001b[0m\u001b[0;34m\u001b[0m\u001b[0m\n\u001b[1;32m      8\u001b[0m \u001b[0;32mfor\u001b[0m \u001b[0mi\u001b[0m \u001b[0;32min\u001b[0m \u001b[0mmy_List\u001b[0m\u001b[0;34m:\u001b[0m\u001b[0;34m\u001b[0m\u001b[0;34m\u001b[0m\u001b[0m\n\u001b[0;32m----> 9\u001b[0;31m     \u001b[0mmin\u001b[0m \u001b[0;34m=\u001b[0m \u001b[0mmy_List\u001b[0m\u001b[0;34m[\u001b[0m\u001b[0mi\u001b[0m\u001b[0;34m]\u001b[0m\u001b[0;34m\u001b[0m\u001b[0;34m\u001b[0m\u001b[0m\n\u001b[0m\u001b[1;32m     10\u001b[0m     \u001b[0mminpos\u001b[0m \u001b[0;34m=\u001b[0m \u001b[0mi\u001b[0m\u001b[0;34m\u001b[0m\u001b[0;34m\u001b[0m\u001b[0m\n\u001b[1;32m     11\u001b[0m     \u001b[0mj\u001b[0m\u001b[0;34m=\u001b[0m\u001b[0mi\u001b[0m\u001b[0;34m+\u001b[0m\u001b[0;36m1\u001b[0m\u001b[0;34m\u001b[0m\u001b[0;34m\u001b[0m\u001b[0m\n",
            "\u001b[0;31mIndexError\u001b[0m: list index out of range"
          ]
        }
      ]
    },
    {
      "cell_type": "code",
      "source": [
        "#Task 3 - Selection Sort\n",
        "def selectionSort(arr, size):\n",
        "   \n",
        "    for i in range(size):\n",
        "        min = i\n",
        "        for i in range(i + 1, size):\n",
        "            if arr[i] < arr[min]:\n",
        "                min_idx = i\n",
        "        (arr[i], arr[min]) = (arr[min], arr[i])\n",
        "\n",
        "my_List = [-2, 45, 0, 11, -9]\n",
        "size = len(my_List)\n",
        "selectionSort(my_List, size)\n",
        "print(\"Sorted Array:\")\n",
        "print(my_List)"
      ],
      "metadata": {
        "id": "YZ3tfpxMUJc5",
        "colab": {
          "base_uri": "https://localhost:8080/"
        },
        "outputId": "e413aee2-a82a-4f23-8a2d-fa244ee2ab58"
      },
      "execution_count": 39,
      "outputs": [
        {
          "output_type": "stream",
          "name": "stdout",
          "text": [
            "Sorted Array:\n",
            "[-9, -2, 45, 0, 11]\n"
          ]
        }
      ]
    }
  ]
}